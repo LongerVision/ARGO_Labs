{
 "cells": [
  {
   "cell_type": "code",
   "execution_count": 69,
   "metadata": {},
   "outputs": [],
   "source": [
    "#Method1\n",
    "#reference: https://pypi.org/project/google-streetview/\n",
    "import google_streetview.api\n",
    "\n",
    "# Define parameters for street view api\n",
    "params = [{\n",
    "  'size': '600x300', # max 640x640 pixels\n",
    "  'location': '2nd Ave & E 1st St, New York, NY 10003',\n",
    "  'heading': '270', #this can be varied accordingly\n",
    "  'pitch': '-0.76',\n",
    "  'fov': '180', # if we set fov to be 90 and vary heading to be 0, 90, 180, 270 we can get 360 view images around a location\n",
    "  'key': 'xxxxxx'\n",
    "}]\n",
    "\n",
    "# Create a results object\n",
    "results = google_streetview.api.results(params)\n",
    "\n",
    "# Download images to directory 'downloads'\n",
    "results.download_links('images/')"
   ]
  },
  {
   "cell_type": "code",
   "execution_count": 2,
   "metadata": {},
   "outputs": [],
   "source": [
    "#checking the results parameters\n",
    "# results.params"
   ]
  },
  {
   "cell_type": "code",
   "execution_count": 46,
   "metadata": {},
   "outputs": [
    {
     "data": {
      "text/plain": [
       "<bound method results.preview of <google_streetview.api.results object at 0x11608b0f0>>"
      ]
     },
     "execution_count": 46,
     "metadata": {},
     "output_type": "execute_result"
    }
   ],
   "source": [
    "results.preview"
   ]
  },
  {
   "cell_type": "code",
   "execution_count": 3,
   "metadata": {},
   "outputs": [],
   "source": [
    "#checking if the image is being extractly correctly or not\n",
    "#results.links"
   ]
  },
  {
   "cell_type": "code",
   "execution_count": 81,
   "metadata": {},
   "outputs": [
    {
     "name": "stdout",
     "output_type": "stream",
     "text": [
      "Collecting git+https://github.com/robolyst/streetview\n",
      "  Cloning https://github.com/robolyst/streetview to /private/var/folders/3s/qgn62y414nv3n0nvbv5hh5gw0000gn/T/pip-req-build-2etr9sn5\n",
      "Requirement already satisfied (use --upgrade to upgrade): streetview==0.1 from git+https://github.com/robolyst/streetview in /Users/ishachaturvedi/anaconda3/lib/python3.6/site-packages\n",
      "Requirement already satisfied: requests in /Users/ishachaturvedi/anaconda3/lib/python3.6/site-packages (from streetview==0.1) (2.18.4)\n",
      "Requirement already satisfied: pillow in /Users/ishachaturvedi/anaconda3/lib/python3.6/site-packages (from streetview==0.1) (4.2.1)\n",
      "Requirement already satisfied: chardet<3.1.0,>=3.0.2 in /Users/ishachaturvedi/anaconda3/lib/python3.6/site-packages (from requests->streetview==0.1) (3.0.4)\n",
      "Requirement already satisfied: idna<2.7,>=2.5 in /Users/ishachaturvedi/anaconda3/lib/python3.6/site-packages (from requests->streetview==0.1) (2.6)\n",
      "Requirement already satisfied: urllib3<1.23,>=1.21.1 in /Users/ishachaturvedi/anaconda3/lib/python3.6/site-packages (from requests->streetview==0.1) (1.21.1)\n",
      "Requirement already satisfied: certifi>=2017.4.17 in /Users/ishachaturvedi/anaconda3/lib/python3.6/site-packages (from requests->streetview==0.1) (2018.4.16)\n",
      "Requirement already satisfied: olefile in /Users/ishachaturvedi/anaconda3/lib/python3.6/site-packages (from pillow->streetview==0.1) (0.44)\n",
      "Building wheels for collected packages: streetview\n",
      "  Running setup.py bdist_wheel for streetview ... \u001b[?25ldone\n",
      "\u001b[?25h  Stored in directory: /private/var/folders/3s/qgn62y414nv3n0nvbv5hh5gw0000gn/T/pip-ephem-wheel-cache-1n445v2y/wheels/1c/f4/31/c69158a1e7f06271925820d04886409e038bdffc31c95af7f9\n",
      "Successfully built streetview\n",
      "\u001b[31mtensorflow-tensorboard 1.5.0 has requirement protobuf>=3.4.0, but you'll have protobuf 3.0.0b2 which is incompatible.\u001b[0m\n",
      "\u001b[33mYou are using pip version 10.0.1, however version 18.0 is available.\n",
      "You should consider upgrading via the 'pip install --upgrade pip' command.\u001b[0m\n"
     ]
    }
   ],
   "source": [
    "#Another Method \n",
    "#reference: https://github.com/robolyst/streetview\n",
    "!pip install git+https://github.com/robolyst/streetview\n"
   ]
  },
  {
   "cell_type": "code",
   "execution_count": 4,
   "metadata": {},
   "outputs": [],
   "source": [
    "#I tried this just to see how effective segmentation would be on a panoramic image. Method 1 is self sufficient\n",
    "import streetviewpanoids = \"xxxxx\"\n",
    "#Run the command below on Mac terminal to receive a panoid\n",
    "#google_streetview --location=\"2nd Ave & E 1st St, New York, NY 10003\" --fov=270 --heading=360 --save_downloads=\"images/\";\n",
    "panoids = \"xxxxx\"\n",
    "streetview.api_download(panoids, 0,\"opencv-semantic-segmentation/images/\", key = \"xxxxx\")"
   ]
  },
  {
   "cell_type": "code",
   "execution_count": null,
   "metadata": {},
   "outputs": [],
   "source": []
  }
 ],
 "metadata": {
  "kernelspec": {
   "display_name": "Python 3",
   "language": "python",
   "name": "python3"
  },
  "language_info": {
   "codemirror_mode": {
    "name": "ipython",
    "version": 3
   },
   "file_extension": ".py",
   "mimetype": "text/x-python",
   "name": "python",
   "nbconvert_exporter": "python",
   "pygments_lexer": "ipython3",
   "version": "3.6.3"
  }
 },
 "nbformat": 4,
 "nbformat_minor": 2
}
