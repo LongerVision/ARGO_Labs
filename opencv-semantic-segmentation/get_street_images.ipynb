{
 "cells": [
  {
   "cell_type": "code",
   "execution_count": 69,
   "metadata": {},
   "outputs": [],
   "source": [
    "#Method1 - For the code of downloading all the images, go to Cell 122\n",
    "#reference: https://pypi.org/project/google-streetview/\n",
    "import google_streetview.api\n",
    "\n",
    "# Define parameters for street view api\n",
    "params = [{\n",
    "  'size': '600x300', # max 640x640 pixels\n",
    "  'location': '2nd Ave & E 1st St, New York, NY 10003',\n",
    "  'heading': '270', #this can be varied accordingly\n",
    "  'pitch': '-0.76',\n",
    "  'fov': '180', # if we set fov to be 90 and vary heading to be 0, 90, 180, 270 we can get 360 view images around a location\n",
    "  'key': 'xxxxxx'\n",
    "}]\n",
    "\n",
    "# Create a results object\n",
    "results = google_streetview.api.results(params)\n",
    "\n",
    "# Download images to directory 'downloads'\n",
    "results.download_links('images/')"
   ]
  },
  {
   "cell_type": "code",
   "execution_count": 2,
   "metadata": {},
   "outputs": [],
   "source": [
    "#checking the results parameters\n",
    "# results.params"
   ]
  },
  {
   "cell_type": "code",
   "execution_count": 46,
   "metadata": {},
   "outputs": [
    {
     "data": {
      "text/plain": [
       "<bound method results.preview of <google_streetview.api.results object at 0x11608b0f0>>"
      ]
     },
     "execution_count": 46,
     "metadata": {},
     "output_type": "execute_result"
    }
   ],
   "source": [
    "results.preview"
   ]
  },
  {
   "cell_type": "code",
   "execution_count": 3,
   "metadata": {},
   "outputs": [],
   "source": [
    "#checking if the image is being extractly correctly or not\n",
    "#results.links"
   ]
  },
  {
   "cell_type": "code",
   "execution_count": 81,
   "metadata": {},
   "outputs": [
    {
     "name": "stdout",
     "output_type": "stream",
     "text": [
      "Collecting git+https://github.com/robolyst/streetview\n",
      "  Cloning https://github.com/robolyst/streetview to /private/var/folders/3s/qgn62y414nv3n0nvbv5hh5gw0000gn/T/pip-req-build-2etr9sn5\n",
      "Requirement already satisfied (use --upgrade to upgrade): streetview==0.1 from git+https://github.com/robolyst/streetview in /Users/ishachaturvedi/anaconda3/lib/python3.6/site-packages\n",
      "Requirement already satisfied: requests in /Users/ishachaturvedi/anaconda3/lib/python3.6/site-packages (from streetview==0.1) (2.18.4)\n",
      "Requirement already satisfied: pillow in /Users/ishachaturvedi/anaconda3/lib/python3.6/site-packages (from streetview==0.1) (4.2.1)\n",
      "Requirement already satisfied: chardet<3.1.0,>=3.0.2 in /Users/ishachaturvedi/anaconda3/lib/python3.6/site-packages (from requests->streetview==0.1) (3.0.4)\n",
      "Requirement already satisfied: idna<2.7,>=2.5 in /Users/ishachaturvedi/anaconda3/lib/python3.6/site-packages (from requests->streetview==0.1) (2.6)\n",
      "Requirement already satisfied: urllib3<1.23,>=1.21.1 in /Users/ishachaturvedi/anaconda3/lib/python3.6/site-packages (from requests->streetview==0.1) (1.21.1)\n",
      "Requirement already satisfied: certifi>=2017.4.17 in /Users/ishachaturvedi/anaconda3/lib/python3.6/site-packages (from requests->streetview==0.1) (2018.4.16)\n",
      "Requirement already satisfied: olefile in /Users/ishachaturvedi/anaconda3/lib/python3.6/site-packages (from pillow->streetview==0.1) (0.44)\n",
      "Building wheels for collected packages: streetview\n",
      "  Running setup.py bdist_wheel for streetview ... \u001b[?25ldone\n",
      "\u001b[?25h  Stored in directory: /private/var/folders/3s/qgn62y414nv3n0nvbv5hh5gw0000gn/T/pip-ephem-wheel-cache-1n445v2y/wheels/1c/f4/31/c69158a1e7f06271925820d04886409e038bdffc31c95af7f9\n",
      "Successfully built streetview\n",
      "\u001b[31mtensorflow-tensorboard 1.5.0 has requirement protobuf>=3.4.0, but you'll have protobuf 3.0.0b2 which is incompatible.\u001b[0m\n",
      "\u001b[33mYou are using pip version 10.0.1, however version 18.0 is available.\n",
      "You should consider upgrading via the 'pip install --upgrade pip' command.\u001b[0m\n"
     ]
    }
   ],
   "source": [
    "#Another Method \n",
    "#reference: https://github.com/robolyst/streetview\n",
    "!pip install git+https://github.com/robolyst/streetview\n"
   ]
  },
  {
   "cell_type": "code",
   "execution_count": 4,
   "metadata": {},
   "outputs": [],
   "source": [
    "#I tried this just to see how effective segmentation would be on a panoramic image. Method 1 is self sufficient\n",
    "import streetviewpanoids = \"xxxxx\"\n",
    "#Run the command below on Mac terminal to receive a panoid\n",
    "#google_streetview --location=\"2nd Ave & E 1st St, New York, NY 10003\" --fov=270 --heading=360 --save_downloads=\"images/\";\n",
    "panoids = \"xxxxx\"\n",
    "streetview.api_download(panoids, 0,\"opencv-semantic-segmentation/images/\", key = \"xxxxx\")"
   ]
  },
  {
   "cell_type": "code",
   "execution_count": 122,
   "metadata": {},
   "outputs": [],
   "source": [
    "#Here I am downloading 250 images, which are ranging from 2 2nd Avenue to 2500 2nd Avenue. I left out 1 2nd Avenue \n",
    "#because the retrived gsv image of 1 was of an inside location. I took 10 as a distance between each images to\n",
    "#avoid high similarity between the consecutive images.\n",
    "#180 degrees fov gave a much better view than from 90 degrees, without having over-stretched images.\n",
    "#After quite a lot of attempts of wanting to retrieve images from a good focus point, I found out 240 degree \n",
    "#gave pretty okay view for most of the images.\n",
    "\n",
    "#Method1\n",
    "#reference: https://pypi.org/project/google-streetview/\n",
    "import google_streetview.api\n",
    "PrevImage = []\n",
    "    # Define parameters for street view api\n",
    "params = [{\n",
    "             'size': '1200x800', # max 640x640 pixels\n",
    "             'location': str(i) + ' 2nd Ave, New York, NY 10003',\n",
    "             'heading': '240', #this can be varied accordingly\n",
    "             'pitch': '-0.76',\n",
    "             'fov': '180', # if we set fov to be 90 and vary heading to be 0, 90, 180, 270 we can get 360 view images around a location\n",
    "             'key': 'XXXXX'\n",
    "    \n",
    "          }\n",
    "\n",
    "          for i in range(2,2501,10)\n",
    "       \n",
    "\n",
    "]\n",
    "    \n",
    "# Create a results object\n",
    "results = google_streetview.api.results(params)\n",
    "# PrevImage.append(results)   \n",
    "results.download_links('images/extra')\n",
    "    \n",
    "\n",
    "# Download images to directory 'downloads'\n",
    "# for i in PrevImage:\n",
    "#     i.download_links('images')"
   ]
  },
  {
   "cell_type": "code",
   "execution_count": 117,
   "metadata": {},
   "outputs": [
    {
     "name": "stdout",
     "output_type": "stream",
     "text": [
      "Imageio: 'ffmpeg-osx-v3.2.4' was not found on your computer; downloading it now.\n",
      "Try 1. Download from https://github.com/imageio/imageio-binaries/raw/master/ffmpeg/ffmpeg-osx-v3.2.4 (33.8 MB)\n",
      "Downloading: 8192/35458856 bytes (0.0352256/35458856 bytes (1.0794624/35458856 bytes (2.21335296/35458856 bytes (3.8%2023424/35458856 bytes (5.7%2809856/35458856 bytes (7.9%3612672/35458856 bytes (10.24431872/35458856 bytes (12.54841472/35458856 bytes (13.76316032/35458856 bytes (17.87135232/35458856 bytes (20.17872512/35458856 bytes (22.28396800/35458856 bytes (23.79199616/35458856 bytes (25.910002432/35458856 bytes (28.2%10919936/35458856 bytes (30.8%11698176/35458856 bytes (33.0%12197888/35458856 bytes (34.4%12820480/35458856 bytes (36.2%13713408/35458856 bytes (38.7%14344192/35458856 bytes (40.5%15024128/35458856 bytes (42.4%15753216/35458856 bytes (44.4%16424960/35458856 bytes (46.3%17334272/35458856 bytes (48.9%18014208/35458856 bytes (50.8%18751488/35458856 bytes (52.9%19243008/35458856 bytes (54.3%19750912/35458856 bytes (55.7%20144128/35458856 bytes (56.8%20488192/35458856 bytes (57.8%20889600/35458856 bytes (58.9%21315584/35458856 bytes (60.1%21790720/35458856 bytes (61.5%22183936/35458856 bytes (62.6%22593536/35458856 bytes (63.7%22986752/35458856 bytes (64.8%23330816/35458856 bytes (65.8%23625728/35458856 bytes (66.6%23904256/35458856 bytes (67.4%24231936/35458856 bytes (68.3%24649728/35458856 bytes (69.5%25231360/35458856 bytes (71.2%25772032/35458856 bytes (72.7%26345472/35458856 bytes (74.3%26705920/35458856 bytes (75.3%27148288/35458856 bytes (76.6%27656192/35458856 bytes (78.0%28196864/35458856 bytes (79.5%28934144/35458856 bytes (81.6%29278208/35458856 bytes (82.6%30015488/35458856 bytes (84.6%30539776/35458856 bytes (86.1%31064064/35458856 bytes (87.6%31866880/35458856 bytes (89.9%32620544/35458856 bytes (92.0%33243136/35458856 bytes (93.8%33751040/35458856 bytes (95.2%34586624/35458856 bytes (97.5%35307520/35458856 bytes (99.6%35458856/35458856 bytes (100.0%)\n",
      "  Done\n",
      "File saved as /Users/ishachaturvedi/Library/Application Support/imageio/ffmpeg/ffmpeg-osx-v3.2.4.\n"
     ]
    }
   ],
   "source": [
    "#downloading necessary package\n",
    "imageio.plugins.ffmpeg.download()\n",
    "\n",
    "#importing necessary files\n",
    "import os\n",
    "import imageio"
   ]
  },
  {
   "cell_type": "code",
   "execution_count": 123,
   "metadata": {},
   "outputs": [],
   "source": [
    "#combine all files in one video file\n",
    "fileList = []\n",
    "path = \"images/\"\n",
    "for file in os.listdir(path):\n",
    "    if file.startswith(\"gsv_\"):\n",
    "        complete_path = path + file\n",
    "        fileList.append(complete_path)\n",
    "\n",
    "writer = imageio.get_writer('videos/train.mp4', fps=2)\n",
    "\n",
    "for im in fileList:\n",
    "    writer.append_data(imageio.imread(im))\n",
    "writer.close()"
   ]
  },
  {
   "cell_type": "code",
   "execution_count": null,
   "metadata": {},
   "outputs": [],
   "source": []
  }
 ],
 "metadata": {
  "kernelspec": {
   "display_name": "Python 3",
   "language": "python",
   "name": "python3"
  },
  "language_info": {
   "codemirror_mode": {
    "name": "ipython",
    "version": 3
   },
   "file_extension": ".py",
   "mimetype": "text/x-python",
   "name": "python",
   "nbconvert_exporter": "python",
   "pygments_lexer": "ipython3",
   "version": "3.6.3"
  }
 },
 "nbformat": 4,
 "nbformat_minor": 2
}
